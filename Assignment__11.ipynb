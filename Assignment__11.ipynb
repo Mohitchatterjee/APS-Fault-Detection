{
  "cells": [
    {
      "cell_type": "markdown",
      "id": "b2aa57f2",
      "metadata": {
        "id": "b2aa57f2"
      },
      "source": [
        "## Mohit Chatterjee\n",
        "# (mohitchatterjee160@gmail.com, 7999744064)\n",
        "# Assignment 11 Solutions"
      ]
    },
    {
      "cell_type": "markdown",
      "id": "111120c6",
      "metadata": {
        "id": "111120c6"
      },
      "source": [
        "##### 1.\tGiven X be a discrete random variable with the following PMF\n",
        "\n",
        "1. Find the range RX of the random variable X.\n",
        "2. Find P(X ≤ 0.5)\n",
        "3. Find P(0.25<X<0.75)\n",
        "4. P(X = 0.2|X<0.6)"
      ]
    },
    {
      "cell_type": "code",
      "execution_count": null,
      "id": "25182c43",
      "metadata": {
        "id": "25182c43"
      },
      "outputs": [],
      "source": []
    },
    {
      "cell_type": "markdown",
      "id": "4ae857d4",
      "metadata": {
        "id": "4ae857d4"
      },
      "source": [
        "##### 2.Two equal and fair dice are rolled, and we observed two numbers X and Y.\n",
        "1. Find RX, RY, and the PMFs of X and Y.\n",
        "2. Find P(X = 2,Y = 6).\n",
        "3. Find P(X>3|Y = 2).\n",
        "4. If Z = X + Y. Find the range and PMF of Z.\n",
        "5. Find P(X = 4|Z = 8)."
      ]
    },
    {
      "cell_type": "code",
      "execution_count": null,
      "id": "d4843f0c",
      "metadata": {
        "id": "d4843f0c"
      },
      "outputs": [],
      "source": []
    },
    {
      "cell_type": "markdown",
      "id": "c981ac1e",
      "metadata": {
        "id": "c981ac1e"
      },
      "source": [
        "##### 3. In an exam, there were 20 multiple-choice questions. Each question had 44 possible options. A student knew the answer to 10 questions, but the other 10 questions were unknown to him, and he chose answers randomly. If the student X's score is equal to the total number of correct answers, then find out the PMF of X. What is P(X>15)?"
      ]
    },
    {
      "cell_type": "code",
      "execution_count": null,
      "id": "22cb0b85",
      "metadata": {
        "id": "22cb0b85"
      },
      "outputs": [],
      "source": []
    },
    {
      "cell_type": "markdown",
      "id": "07ab2a64",
      "metadata": {
        "id": "07ab2a64"
      },
      "source": [
        "##### 4. The number of students arriving at a college between a time interval is a Poisson random variable. On average, 10 students arrive per hour. Let Y be the number of students arriving from 10 am to 11:30 am. What is P(10<Y≤15)?"
      ]
    },
    {
      "cell_type": "code",
      "execution_count": null,
      "id": "4fcff694",
      "metadata": {
        "id": "4fcff694"
      },
      "outputs": [],
      "source": []
    },
    {
      "cell_type": "markdown",
      "id": "0be2162e",
      "metadata": {
        "id": "0be2162e"
      },
      "source": [
        "##### 5.Two independent random variables, X and Y,are given such that X~Poisson(α) and Y~Poisson(β). State a new random variable as Z = X + Y. Find out the PMF of Z."
      ]
    },
    {
      "cell_type": "code",
      "execution_count": null,
      "id": "a659522d",
      "metadata": {
        "id": "a659522d"
      },
      "outputs": [],
      "source": []
    },
    {
      "cell_type": "markdown",
      "id": "a96163dd",
      "metadata": {
        "id": "a96163dd"
      },
      "source": [
        "##### 6. There is a discrete random variable X with the pmf. \n",
        "\n",
        "If we define a new random variable Y = (X + 1)2 then\n",
        "1. Find the range of Y.\n",
        "2. Find the pmf of Y.\n",
        "\n",
        "##### 2.Assuming X is a continuous random variable with PDF\n",
        "\n",
        "1.\tFind EX and Var(X).\n",
        "2.\tFind P(X ≥ 1/2).\n",
        "\n",
        "2.\tIf X is a continuous random variable with pdf \n",
        "\n",
        "3.\tIf X~Uniform  and Y = sin(X), then find fY(y).\n",
        "4.\tIf X is a random variable with CDF \n",
        "\n",
        "1.\tWhat kind of random variable is X: discrete, continuous, or mixed?\n",
        "2.\tFind the PDF of X, fX(x).\n",
        "3.\tFind E(eX).\n",
        "4.\tFind P(X = 0|X≤0.5).\n"
      ]
    },
    {
      "cell_type": "code",
      "execution_count": null,
      "id": "f48c0c3e",
      "metadata": {
        "id": "f48c0c3e"
      },
      "outputs": [],
      "source": []
    },
    {
      "cell_type": "markdown",
      "id": "6b3b649e",
      "metadata": {
        "id": "6b3b649e"
      },
      "source": [
        "##### 5.\tThere are two random variables X and Y with joint PMF given in Table below\n",
        "1.\tFind P(X≤2, Y≤4).\n",
        "2.\tFind the marginal PMFs of X and Y.\n",
        "3.\tFind P(Y = 2|X = 1).\n",
        "4.\tAre X and Y independent? \n",
        "\n"
      ]
    },
    {
      "cell_type": "code",
      "execution_count": null,
      "id": "efc19852",
      "metadata": {
        "id": "efc19852"
      },
      "outputs": [],
      "source": []
    },
    {
      "cell_type": "markdown",
      "id": "54020cf8",
      "metadata": {
        "id": "54020cf8"
      },
      "source": [
        "##### 6.A box containing 40 white shirts and 60 black shirts. If we choose 10 shirts (without replacement) at random, find the joint PMF of X and Y, where X is the number of white shirts and Y is the number of black shirts."
      ]
    },
    {
      "cell_type": "code",
      "execution_count": null,
      "id": "2384e84b",
      "metadata": {
        "id": "2384e84b"
      },
      "outputs": [],
      "source": []
    },
    {
      "cell_type": "markdown",
      "id": "9db681d1",
      "metadata": {
        "id": "9db681d1"
      },
      "source": [
        "##### 7.If A and B are two jointly continuous random variables with joint PDF\n",
        "\n",
        "\n",
        "\n",
        "1. Find fX(a) and fY(b).\n",
        "2. Are A and B independent of each other?\n",
        "3. Find the conditional PDF of A given B = b, fA|B(a|b).\n",
        "4. Find E[A|B = b], for 0 ≤ y ≤ 1.\n",
        "5. Find Var(A|B = b), for 0 ≤ y ≤ 1."
      ]
    },
    {
      "cell_type": "code",
      "execution_count": null,
      "id": "78ba3b3f",
      "metadata": {
        "id": "78ba3b3f"
      },
      "outputs": [],
      "source": []
    },
    {
      "cell_type": "markdown",
      "id": "5b686929",
      "metadata": {
        "id": "5b686929"
      },
      "source": [
        "##### 8.There are 100 men on a ship. If Xi is the ith man's weight on the ship and Xi's are independent and identically distributed and EXi = μ = 170 and σXi = σ = 30. Find the probability that the men's total weight on the ship exceeds 18,000."
      ]
    },
    {
      "cell_type": "code",
      "execution_count": null,
      "id": "b8000476",
      "metadata": {
        "id": "b8000476"
      },
      "outputs": [],
      "source": []
    },
    {
      "cell_type": "markdown",
      "id": "3e636eaf",
      "metadata": {
        "id": "3e636eaf"
      },
      "source": [
        "##### 9.Let X1, X2, ……, X25 are independent and identically distributed. And have the following PMF. If Y = X1 + X2 + … + Xn, estimate P(4 ≤ Y ≤ 6) using central limit theorem."
      ]
    },
    {
      "cell_type": "code",
      "execution_count": null,
      "id": "116d7729",
      "metadata": {
        "id": "116d7729"
      },
      "outputs": [],
      "source": []
    }
  ],
  "metadata": {
    "kernelspec": {
      "display_name": "Python 3",
      "language": "python",
      "name": "python3"
    },
    "language_info": {
      "codemirror_mode": {
        "name": "ipython",
        "version": 3
      },
      "file_extension": ".py",
      "mimetype": "text/x-python",
      "name": "python",
      "nbconvert_exporter": "python",
      "pygments_lexer": "ipython3",
      "version": "3.8.8"
    },
    "colab": {
      "provenance": []
    }
  },
  "nbformat": 4,
  "nbformat_minor": 5
}